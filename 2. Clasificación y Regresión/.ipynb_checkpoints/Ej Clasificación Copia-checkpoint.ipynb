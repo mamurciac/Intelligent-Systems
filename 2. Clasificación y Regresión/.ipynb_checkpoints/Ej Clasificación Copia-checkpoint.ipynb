{
 "cells": [
  {
   "cell_type": "code",
   "execution_count": 1,
   "id": "ece9fc59",
   "metadata": {},
   "outputs": [],
   "source": [
    "import pandas as pd"
   ]
  },
  {
   "cell_type": "code",
   "execution_count": 2,
   "id": "afdd223d",
   "metadata": {},
   "outputs": [],
   "source": [
    "def printColouredText(text, foregroundColor = (0, 0, 0), backgroundColor = (255, 255, 255)):\n",
    "    return \"\\033[48;2;{};{};{}m\\033[38;2;{};{};{}m{}\\033[38;2;0;0;0m\\033[48;2;255;255;255m\".format(backgroundColor[0], backgroundColor[1], backgroundColor[2], foregroundColor[0], foregroundColor[1], foregroundColor[2], text)\n",
    "\n",
    "def extraerInformacionArchivo(nombreArchivo):\n",
    "    numeroDimensiones = None\n",
    "    nombreClase1 = None\n",
    "    nombreClase2 = None\n",
    "    listaCoeficientesHiperplanoBase = []\n",
    "    etiquetaCoordenadaPuntos = None\n",
    "\n",
    "    inputStream = open(nombreArchivo, \"r\")\n",
    "    lineasTextoArchivo = inputStream.readlines()\n",
    "    for numeroLineaActual in range(len(lineasTextoArchivo)):\n",
    "        if numeroLineaActual == 0:\n",
    "            numeroDimensiones = int(lineasTextoArchivo[numeroLineaActual].strip())\n",
    "        elif numeroLineaActual == 1:\n",
    "            nombreClase1 = lineasTextoArchivo[numeroLineaActual].strip()\n",
    "        elif numeroLineaActual == 2:\n",
    "            nombreClase2 = lineasTextoArchivo[numeroLineaActual].strip()\n",
    "        elif numeroLineaActual == 3:\n",
    "            lineaTextoActual = lineasTextoArchivo[numeroLineaActual].strip()\n",
    "            lineaTextoActual = lineaTextoActual[1:(len(lineaTextoActual) - 1)]\n",
    "            datosCoeficientesHiperplano = lineaTextoActual.split(\", \")\n",
    "            for coeficiente in datosCoeficientesHiperplano:\n",
    "                listaCoeficientesHiperplanoBase.append(float(coeficiente))\n",
    "        elif numeroLineaActual == 4:\n",
    "            etiquetaCoordenadaPuntos = lineasTextoArchivo[numeroLineaActual].strip()\n",
    "    inputStream.close()\n",
    "    return numeroDimensiones, nombreClase1, nombreClase2, listaCoeficientesHiperplanoBase, etiquetaCoordenadaPuntos"
   ]
  },
  {
   "cell_type": "code",
   "execution_count": null,
   "id": "d55977fe",
   "metadata": {},
   "outputs": [],
   "source": []
  },
  {
   "cell_type": "code",
   "execution_count": 3,
   "id": "46ec47d2",
   "metadata": {},
   "outputs": [],
   "source": [
    "#Parametros de ejecucion del programa\n",
    "nombreArchivoInformacion = \"InformacionEjercicioClasificacion.txt\"\n",
    "nombreArchivoDataset = \"DatasetClasificacion.csv\"\n",
    "tasaAprendizaje = 0.001\n",
    "tiempoPausaAnimacion = 0.01"
   ]
  },
  {
   "cell_type": "code",
   "execution_count": 4,
   "id": "8da711a9",
   "metadata": {},
   "outputs": [
    {
     "name": "stdout",
     "output_type": "stream",
     "text": [
      "Se ha extraído la información del grafo del archivo \u001b[48;2;255;255;255m\u001b[38;2;35;155;86mInformacionEjercicioClasificacion.txt\u001b[38;2;0;0;0m\u001b[48;2;255;255;255m\n",
      "Se está trabajando sobre \u001b[48;2;255;255;255m\u001b[38;2;35;155;86m3 dimension(es)\u001b[38;2;0;0;0m\u001b[48;2;255;255;255m\n",
      "Los coeficientes del plano sobre el cual se generó del dataset de puntos para clasificación son: \u001b[48;2;255;255;255m\u001b[38;2;176;58;46m[0.7601511023493641, 0.6061538270784657, -0.7991363156483748, 0.04182990207867143]\u001b[38;2;0;0;0m\u001b[48;2;255;255;255m\n"
     ]
    }
   ],
   "source": [
    "numeroDimensiones, nombreClase1, nombreClase2, listaCoeficientesHiperplanoBase, etiquetaCoordenadaPuntos = extraerInformacionArchivo(nombreArchivoInformacion)\n",
    "\n",
    "colorTextoVerde = (35, 155, 86)\n",
    "colorTextoRojo = (176, 58, 46)\n",
    "print(\"Se ha extraído la información del grafo del archivo\", printColouredText(nombreArchivoInformacion, colorTextoVerde))\n",
    "print(\"Se está trabajando sobre\", printColouredText(str(numeroDimensiones) + \" dimension(es)\", colorTextoVerde))\n",
    "print(\"Los coeficientes del plano sobre el cual se generó del dataset de puntos para clasificación son:\", printColouredText(str(listaCoeficientesHiperplanoBase), colorTextoRojo))"
   ]
  },
  {
   "cell_type": "code",
   "execution_count": 5,
   "id": "b3840cec",
   "metadata": {},
   "outputs": [],
   "source": [
    "datasetFile = pd.read_csv(nombreArchivoDataset)"
   ]
  },
  {
   "cell_type": "code",
   "execution_count": null,
   "id": "c8b98929",
   "metadata": {},
   "outputs": [],
   "source": []
  },
  {
   "cell_type": "code",
   "execution_count": null,
   "id": "8c31a2d9",
   "metadata": {},
   "outputs": [],
   "source": []
  },
  {
   "cell_type": "code",
   "execution_count": null,
   "id": "7c56d2a5",
   "metadata": {},
   "outputs": [],
   "source": []
  },
  {
   "cell_type": "code",
   "execution_count": null,
   "id": "e39cfcca",
   "metadata": {},
   "outputs": [],
   "source": []
  }
 ],
 "metadata": {
  "kernelspec": {
   "display_name": "Python 3 (ipykernel)",
   "language": "python",
   "name": "python3"
  },
  "language_info": {
   "codemirror_mode": {
    "name": "ipython",
    "version": 3
   },
   "file_extension": ".py",
   "mimetype": "text/x-python",
   "name": "python",
   "nbconvert_exporter": "python",
   "pygments_lexer": "ipython3",
   "version": "3.10.6"
  }
 },
 "nbformat": 4,
 "nbformat_minor": 5
}
