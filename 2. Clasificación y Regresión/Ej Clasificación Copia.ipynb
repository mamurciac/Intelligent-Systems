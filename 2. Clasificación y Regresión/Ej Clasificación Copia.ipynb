{
 "cells": [
  {
   "cell_type": "code",
   "execution_count": 1,
   "id": "e7e9a6d2",
   "metadata": {},
   "outputs": [],
   "source": [
    "import pandas as pd"
   ]
  },
  {
   "cell_type": "code",
   "execution_count": 2,
   "id": "089e6be2",
   "metadata": {},
   "outputs": [],
   "source": [
    "def printColouredText(text, foregroundColor = (0, 0, 0), backgroundColor = (255, 255, 255)):\n",
    "    return \"\\033[48;2;{};{};{}m\\033[38;2;{};{};{}m{}\\033[38;2;0;0;0m\\033[48;2;255;255;255m\".format(backgroundColor[0], backgroundColor[1], backgroundColor[2], foregroundColor[0], foregroundColor[1], foregroundColor[2], text)\n",
    "\n",
    "def extraerInformacionArchivo(nombreArchivo):\n",
    "    numeroDimensiones = None\n",
    "    nombreClase1 = None\n",
    "    nombreClase2 = None\n",
    "    listaCoeficientesHiperplanoBase = []\n",
    "    etiquetaCoordenadaPuntos = None\n",
    "    nombreColumnaClaseAsignada = None\n",
    "\n",
    "    inputStream = open(nombreArchivo, \"r\")\n",
    "    lineasTextoArchivo = inputStream.readlines()\n",
    "    for numeroLineaActual in range(len(lineasTextoArchivo)):\n",
    "        if numeroLineaActual == 0:\n",
    "            numeroDimensiones = int(lineasTextoArchivo[numeroLineaActual].strip())\n",
    "        elif numeroLineaActual == 1:\n",
    "            nombreClase1 = lineasTextoArchivo[numeroLineaActual].strip()\n",
    "        elif numeroLineaActual == 2:\n",
    "            nombreClase2 = lineasTextoArchivo[numeroLineaActual].strip()\n",
    "        elif numeroLineaActual == 3:\n",
    "            lineaTextoActual = lineasTextoArchivo[numeroLineaActual].strip()\n",
    "            lineaTextoActual = lineaTextoActual[1:(len(lineaTextoActual) - 1)]\n",
    "            datosCoeficientesHiperplano = lineaTextoActual.split(\", \")\n",
    "            for coeficiente in datosCoeficientesHiperplano:\n",
    "                listaCoeficientesHiperplanoBase.append(float(coeficiente))\n",
    "        elif numeroLineaActual == 4:\n",
    "            etiquetaCoordenadaPuntos = lineasTextoArchivo[numeroLineaActual].strip()\n",
    "        elif numeroLineaActual == 5:\n",
    "            nombreColumnaClaseAsignada = lineasTextoArchivo[numeroLineaActual].strip()\n",
    "    inputStream.close()\n",
    "    return numeroDimensiones, nombreClase1, nombreClase2, listaCoeficientesHiperplanoBase, etiquetaCoordenadaPuntos, nombreColumnaClaseAsignada"
   ]
  },
  {
   "cell_type": "code",
   "execution_count": null,
   "id": "1344bab5",
   "metadata": {},
   "outputs": [],
   "source": []
  },
  {
   "cell_type": "code",
   "execution_count": 3,
   "id": "bd7d3236",
   "metadata": {},
   "outputs": [],
   "source": [
    "#Parametros de ejecucion del programa\n",
    "nombreArchivoInformacion = \"InformacionEjercicioClasificacion.txt\"\n",
    "nombreArchivoDataset = \"DatasetClasificacion.csv\"\n",
    "tasaAprendizaje = 0.001\n",
    "tiempoPausaAnimacion = 0.01"
   ]
  },
  {
   "cell_type": "code",
   "execution_count": 4,
   "id": "8815837e",
   "metadata": {},
   "outputs": [
    {
     "name": "stdout",
     "output_type": "stream",
     "text": [
      "Se ha extraído la información del archivo \u001b[48;2;255;255;255m\u001b[38;2;35;155;86mInformacionEjercicioClasificacion.txt\u001b[38;2;0;0;0m\u001b[48;2;255;255;255m\n",
      "Se está trabajando sobre \u001b[48;2;255;255;255m\u001b[38;2;35;155;86m3 dimension(es)\u001b[38;2;0;0;0m\u001b[48;2;255;255;255m\n",
      "Los coeficientes del plano sobre el cual se generó del dataset de puntos para clasificación son: \u001b[48;2;255;255;255m\u001b[38;2;176;58;46m[-0.39769888183484237, 0.08470121178642387, 0.29091995194964326, 0.16554139588090022]\u001b[38;2;0;0;0m\u001b[48;2;255;255;255m\n"
     ]
    }
   ],
   "source": [
    "numeroDimensiones, nombreClase1, nombreClase2, listaCoeficientesHiperplanoBase, etiquetaCoordenadaPuntos, nombreColumnaClaseAsignada = extraerInformacionArchivo(nombreArchivoInformacion)\n",
    "\n",
    "colorTextoVerde = (35, 155, 86)\n",
    "colorTextoRojo = (176, 58, 46)\n",
    "print(\"Se ha extraído la información del archivo\", printColouredText(nombreArchivoInformacion, colorTextoVerde))\n",
    "print(\"Se está trabajando sobre\", printColouredText(str(numeroDimensiones) + \" dimension(es)\", colorTextoVerde))\n",
    "print(\"Los coeficientes del plano sobre el cual se generó del dataset de puntos para clasificación son:\", printColouredText(str(listaCoeficientesHiperplanoBase), colorTextoRojo))"
   ]
  },
  {
   "cell_type": "code",
   "execution_count": 5,
   "id": "5447b3b5",
   "metadata": {},
   "outputs": [
    {
     "name": "stdout",
     "output_type": "stream",
     "text": [
      "Se ha extraído la información del archivo \u001b[48;2;255;255;255m\u001b[38;2;35;155;86mDatasetClasificacion.csv\u001b[38;2;0;0;0m\u001b[48;2;255;255;255m\n",
      "Se tiene un total de \u001b[48;2;255;255;255m\u001b[38;2;35;155;86m100 punto(s)\u001b[38;2;0;0;0m\u001b[48;2;255;255;255m\n",
      "De la clase \u001b[48;2;255;255;255m\u001b[38;2;176;58;46mClase 1\u001b[38;2;0;0;0m\u001b[48;2;255;255;255m se tienen \u001b[48;2;255;255;255m\u001b[38;2;176;58;46m50 punto(s)\u001b[38;2;0;0;0m\u001b[48;2;255;255;255m\n",
      "De la clase \u001b[48;2;255;255;255m\u001b[38;2;176;58;46mClase 2\u001b[38;2;0;0;0m\u001b[48;2;255;255;255m se tienen \u001b[48;2;255;255;255m\u001b[38;2;176;58;46m50 punto(s)\u001b[38;2;0;0;0m\u001b[48;2;255;255;255m\n"
     ]
    }
   ],
   "source": [
    "datasetFile = pd.read_csv(nombreArchivoDataset)\n",
    "\n",
    "listaPuntosMuestra = []\n",
    "muestraPuntosPorClases = {nombreClase1: [], nombreClase2: []}\n",
    "for indicefilaActual, filaActual in datasetFile.iterrows():\n",
    "    puntoActual = []\n",
    "    for indice in range(numeroDimensiones):\n",
    "        nombreColumnaActual = \"Coordenada $\" + etiquetaCoordenadaPuntos + \"_{\" + str(indice + 1) + \"}$\"\n",
    "        puntoActual.append(filaActual[nombreColumnaActual])\n",
    "    categoriaPuntoActual = filaActual[nombreColumnaClaseAsignada]\n",
    "    listaPuntosMuestra.append(puntoActual)\n",
    "    muestraPuntosPorClases[categoriaPuntoActual].append(puntoActual)\n",
    "\n",
    "print(\"Se ha extraído la información del archivo\", printColouredText(nombreArchivoDataset, colorTextoVerde))\n",
    "print(\"Se tiene un total de\", printColouredText(str(len(listaPuntosMuestra)) + \" punto(s)\", colorTextoVerde))\n",
    "print(\"De la clase\", printColouredText(nombreClase1, colorTextoRojo), \"se tienen\", printColouredText(str(len(muestraPuntosPorClases[nombreClase1])) + \" punto(s)\", colorTextoRojo))\n",
    "print(\"De la clase\", printColouredText(nombreClase2, colorTextoRojo), \"se tienen\", printColouredText(str(len(muestraPuntosPorClases[nombreClase2])) + \" punto(s)\", colorTextoRojo))"
   ]
  },
  {
   "cell_type": "code",
   "execution_count": null,
   "id": "38c255bc",
   "metadata": {},
   "outputs": [],
   "source": []
  },
  {
   "cell_type": "code",
   "execution_count": null,
   "id": "521ff454",
   "metadata": {},
   "outputs": [],
   "source": []
  },
  {
   "cell_type": "code",
   "execution_count": null,
   "id": "cefa94df",
   "metadata": {},
   "outputs": [],
   "source": []
  },
  {
   "cell_type": "code",
   "execution_count": null,
   "id": "1979406c",
   "metadata": {},
   "outputs": [],
   "source": []
  }
 ],
 "metadata": {
  "kernelspec": {
   "display_name": "Python 3 (ipykernel)",
   "language": "python",
   "name": "python3"
  },
  "language_info": {
   "codemirror_mode": {
    "name": "ipython",
    "version": 3
   },
   "file_extension": ".py",
   "mimetype": "text/x-python",
   "name": "python",
   "nbconvert_exporter": "python",
   "pygments_lexer": "ipython3",
   "version": "3.10.6"
  }
 },
 "nbformat": 4,
 "nbformat_minor": 5
}
