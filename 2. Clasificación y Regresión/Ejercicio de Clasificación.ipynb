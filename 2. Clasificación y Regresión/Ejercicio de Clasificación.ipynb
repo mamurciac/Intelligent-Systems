{
 "cells": [
  {
   "cell_type": "code",
   "execution_count": 1,
   "id": "0692f5d8",
   "metadata": {},
   "outputs": [],
   "source": [
    "import matplotlib.pyplot as plt\n",
    "import numpy as np"
   ]
  },
  {
   "cell_type": "code",
   "execution_count": 2,
   "id": "aec02846",
   "metadata": {},
   "outputs": [],
   "source": [
    "def generarPuntosMuestra(numeroMuestrasClase1, numeroMuestrasClase2, nombreClase1, nombreClase2, listaCoeficientesCompletosHiperplano, minimoValorAbscisas, maximoValorAbscisas, numeroDimensiones = 2, margenMinimoSeparacionEntreClases = 1.0):\n",
    "    muestraPuntos = []\n",
    "    muestraPuntosPorClases = {nombreClase1: [], nombreClase2: []}\n",
    "    \n",
    "    #Se generan los puntos de la primera clase (no se tienen restricciones adicionales sobre las abscisas)\n",
    "    for indice in range(numeroMuestrasClase1):\n",
    "        abscisasPunto = []\n",
    "        if numeroDimensiones > 1:\n",
    "            abscisasPunto = list(np.random.uniform(low = minimoValorAbscisas, high = maximoValorAbscisas, size = numeroDimensiones - 1))\n",
    "        puntoGenerado = abscisasPunto + [np.dot(listaCoeficientesCompletosHiperplano[0:(numeroDimensiones - 1)], abscisasPunto) + listaCoeficientesCompletosHiperplano[numeroDimensiones - 1] + margenMinimoSeparacionEntreClases + np.random.rand()]\n",
    "        muestraPuntos.append(puntoGenerado)\n",
    "        muestraPuntosPorClases[nombreClase1].append(puntoGenerado)\n",
    "    \n",
    "    #Se generan los puntos de la segunda clase (no se tienen restricciones adicionales sobre las abscisas)\n",
    "    for indice in range(numeroMuestrasClase2):\n",
    "        abscisasPunto = []\n",
    "        if numeroDimensiones > 1:\n",
    "            abscisasPunto = list(np.random.uniform(minimoValorAbscisas, maximoValorAbscisas, numeroDimensiones - 1))\n",
    "        puntoGenerado = abscisasPunto + [np.dot(listaCoeficientesCompletosHiperplano[0:(numeroDimensiones - 1)], abscisasPunto) + listaCoeficientesCompletosHiperplano[numeroDimensiones - 1] - margenMinimoSeparacionEntreClases - np.random.rand()]\n",
    "        muestraPuntos.append(puntoGenerado)\n",
    "        muestraPuntosPorClases[nombreClase2].append(puntoGenerado)\n",
    "    return muestraPuntos, muestraPuntosPorClases\n",
    "\n",
    "def verificarMuestrasClasificadasDeUnaSolaClase(muestraPuntosPorClases, claseObjetivo, listaCoeficientesCompletosHiperplano, numeroDimensiones = 2):\n",
    "#def revisarClasificacionLineal(clases, clase, w1, w2, b):\n",
    "    numeroPuntosConSignoPositivo = 0\n",
    "    numeroPuntosConSignoNegativo = 0\n",
    "    for punto in muestraPuntosPorClases[claseObjetivo]:\n",
    "        valorPunto = np.dot(listaCoeficientesCompletosHiperplano[0:(numeroDimensiones - 1)], punto[0:(numeroDimensiones - 1)]) + listaCoeficientesCompletosHiperplano[numeroDimensiones - 1]\n",
    "        if valorPunto == 0.0:\n",
    "            return False\n",
    "        elif np.sign(valorPunto) == 1.0:\n",
    "            numeroPuntosConSignoPositivo += 1\n",
    "        else:\n",
    "            numeroPuntosConSignoNegativo += 1\n",
    "    \n",
    "    if (numeroPuntosConSignoPositivo > 0 and numeroPuntosConSignoNegativo == 0) or (numeroPuntosConSignoPositivo == 0 and numeroPuntosConSignoNegativo > 0):\n",
    "        return True\n",
    "    return False\n",
    "            \n",
    "\"\"\"\n",
    "clasificacion = []\n",
    "for punto in clases[clase]:\n",
    "    v = w1 * punto[0] + w2 * punto[1] + b\n",
    "    if v != 0:\n",
    "        clasificacion.append(np.sign(v))\n",
    "    else:\n",
    "        return 0\n",
    "for resultado in clasificacion:\n",
    "    if resultado != clasificacion[0]:\n",
    "        return 0\n",
    "return np.sign(clasificacion[0])\n",
    "\n",
    "clasificacion = []\n",
    "for punto in clases[clase]:\n",
    "    v = w1 * punto[0] + w2 * punto[1] + b\n",
    "    if v != 0:\n",
    "        clasificacion.append(np.sign(v))\n",
    "    else:\n",
    "        return 0\n",
    "for resultado in clasificacion:\n",
    "    if resultado != clasificacion[0]:\n",
    "        return 0\n",
    "return np.sign(clasificacion[0])\n",
    "\"\"\"\n",
    "\n",
    "def separarPuntosPorListasDeCoordenadas(clases, clase):\n",
    "    x = []\n",
    "    y = []\n",
    "    for punto in clases[clase]:\n",
    "        x.append(punto[0])\n",
    "        y.append(punto[1])\n",
    "    return x, y\n",
    "\n",
    "def obtenerListasCoordenadas(listaPuntos, numeroDimensiones = 2):\n",
    "    diccionarioPuntosPorCoordenadas = {}\n",
    "    for indice in range(numeroDimensiones):\n",
    "        diccionarioPuntosPorCoordenadas[indice] = []\n",
    "        \n",
    "    for puntoActual in listaPuntos:\n",
    "        for indice in range(numeroDimensiones):\n",
    "            coordenadaActual = puntoActual[indice]\n",
    "            diccionarioPuntosPorCoordenadas[indice].append(coordenadaActual)\n",
    "    return diccionarioPuntosPorCoordenadas\n",
    "\n",
    "#listaPuntosCamino = []\n",
    "#listaValoresCoordenadasEjeX = []\n",
    "#listaValoresCoordenadasEjeY = []\n",
    "#for nodoActual in listaNodosCamino:\n",
    "#    coordenadaXNodoActual, coordenadaYNodoActual = hashNumeroACoordenada(nodoActual, numeroVerticesAlto, numeroVerticesAncho)\n",
    "#    listaValoresCoordenadasEjeX.append(coordenadaXNodoActual)\n",
    "#    listaValoresCoordenadasEjeY.append(coordenadaYNodoActual)\n",
    "#    listaPuntosCamino.append((coordenadaXNodoActual, coordenadaYNodoActual))\n",
    "#return listaPuntosCamino, listaValoresCoordenadasEjeX, listaValoresCoordenadasEjeY\n",
    "\n",
    "#Algoritmo de clasificacion para 2 clases linealmente separables\n",
    "def algoritmoPerceptronSimple(muestra, clase1, clase2):\n",
    "    w1 = np.random.rand()\n",
    "    w2 = np.random.rand()\n",
    "    b = np.random.rand()\n",
    "    while w1 == 0 or w2 == 0 or b == 0:\n",
    "        w1 = np.random.rand()\n",
    "        w2 = np.random.rand()\n",
    "        b = np.random.rand()\n",
    "    alfa = 0.001\n",
    "    plt.ion()\n",
    "    plt.show()\n",
    "    numeroPasos = 1\n",
    "    while True:\n",
    "        plt.clf()\n",
    "        parejaSeleccionada = muestra[np.random.randint(len(muestra))]\n",
    "        z = w1 * parejaSeleccionada[0] + w2 * parejaSeleccionada[1] + b\n",
    "        if not ((parejaSeleccionada in clase1 and z >= 0) or (parejaSeleccionada in clase2 and z < 0)):\n",
    "            if z < 0 and parejaSeleccionada in clase1:\n",
    "                w1 += alfa * parejaSeleccionada[0]\n",
    "                w2 += alfa * parejaSeleccionada[1]\n",
    "                b += alfa\n",
    "            else:\n",
    "                if z >= 0 and parejaSeleccionada in clase2:\n",
    "                    w1 -= alfa * parejaSeleccionada[0]\n",
    "                    w2 -= alfa * parejaSeleccionada[1]\n",
    "                    b -= alfa\n",
    "        x1, y1 = separarPuntosPorListasDeCoordenadas(clases, '1')\n",
    "        x2, y2 = separarPuntosPorListasDeCoordenadas(clases, '2')\n",
    "        plt.plot(x1, y1, 'bo', label = 'Clase 1 de muestra')\n",
    "        plt.plot(x2, y2, 'ro', label = 'Clase 2 de muestra')\n",
    "        listaDeValoresEjeIndependiente = np.arange(minimoEjeX, maximoEjeX, 0.01)\n",
    "        plt.plot(listaDeValoresEjeIndependiente, -(w1 * listaDeValoresEjeIndependiente + b) / w2, 'g-', label = \"Frontera de Decision propuesta por el algoritmo\")\n",
    "        plt.legend(loc = 'upper left')\n",
    "        plt.xlabel('Eje X')\n",
    "        plt.ylabel('Eje Y')\n",
    "        plt.title('Visualizacion de la recta que proporciona el algoritmo')\n",
    "        plt.xlim(minimoEjeX, maximoEjeX)\n",
    "        plt.ylim(minimoEjeY, maximoEjeY)\n",
    "        plt.grid(True)\n",
    "        plt.pause(tiempoPausa)\n",
    "        #revisionClasificacion1 = revisarClasificacionLineal(clases, '1', w1, w2, b)\n",
    "        #revisionClasificacion2 = revisarClasificacionLineal(clases, '2', w1, w2, b)\n",
    "        revisionClasificacion1 = verificarMuestrasClasificadasDeUnaSolaClase(muestraPuntosPorClases, \"Clase 1\", listaCoeficientesPrincipalesHiperplano, interceptoHiperplano, numeroDimensiones = numeroDimensiones)\n",
    "        revisionClasificacion2 = verificarMuestrasClasificadasDeUnaSolaClase(muestraPuntosPorClases, \"Clase 2\", listaCoeficientesPrincipalesHiperplano, interceptoHiperplano, numeroDimensiones = numeroDimensiones)\n",
    "        numeroPasos += 1\n",
    "        #if revisionClasificacion1 != 0 and revisionClasificacion2 != 0 and revisionClasificacion1 != revisionClasificacion2:\n",
    "        if revisionClasificacion1 == True and revisionClasificacion2 == True:\n",
    "            print(\"Fue(ron) necesario(s)\", numeroPasos, \"paso(s) para obtener una recta de clasificacion\")\n",
    "            print(\"La recta de clasificacion que proporciona el algoritmo es \" + str(w1) + \"x + \" + str(w2) + \"y + \" + str(b) + \" = 0\")\n",
    "            break\n",
    "    plt.ioff()\n",
    "    plt.show()"
   ]
  },
  {
   "cell_type": "code",
   "execution_count": null,
   "id": "6b953ac0",
   "metadata": {},
   "outputs": [],
   "source": []
  },
  {
   "cell_type": "code",
   "execution_count": null,
   "id": "950743ff",
   "metadata": {},
   "outputs": [],
   "source": []
  },
  {
   "cell_type": "code",
   "execution_count": 3,
   "id": "6b2125a8",
   "metadata": {},
   "outputs": [],
   "source": [
    "#tiempoPausa = 0.1\n",
    "minimoEjeX = 0\n",
    "maximoEjeX = 10\n",
    "numeroDimensiones = 2\n",
    "listaCoeficientesPrincipalesHiperplanoBase = [1.0] * (numeroDimensiones - 1)\n",
    "coeficienteInterceptoHiperplanoBase = 0.0\n",
    "nombreClase1 = \"Clase 1\"\n",
    "nombreClase2 = \"Clase 2\"\n",
    "margenMinimoSeparacionEntreClases = 0.5\n",
    "numeroMuestrasClase1 = 10\n",
    "numeroMuestrasClase2 = 10"
   ]
  },
  {
   "cell_type": "code",
   "execution_count": 4,
   "id": "2f78053b",
   "metadata": {},
   "outputs": [
    {
     "name": "stdout",
     "output_type": "stream",
     "text": [
      "[[1.241184511447151, 2.023743267986415], [5.8041878730615295, 6.309910932915736], [2.558177389236622, 3.866358886217448], [5.920259041548361, 7.193216707366432], [0.38366837142592036, 1.0656039525620637], [5.2966934889194315, 5.921459423791039], [1.808534051221382, 2.4756756785130536], [0.7365916758742275, 1.8050337674596508], [6.657930524794339, 7.37521658132309], [0.3290876565430889, 1.6092296903348007], [7.614282873078104, 6.333438705791346], [5.978157264793037, 5.1983773870034895], [9.67764906277427, 8.623808024322178], [4.697558078839372, 3.3694673955680967], [7.328869333034507, 6.341258830627054], [0.8292743505924005, 0.2108382117052916], [0.9932517603358082, 0.11739680863925817], [3.859239057867022, 3.273592994352898], [8.051857125037913, 6.753976582452022], [5.93564706031926, 4.865330347299792]]\n"
     ]
    }
   ],
   "source": [
    "listaCoeficientesCompletosHiperplanoBase = listaCoeficientesPrincipalesHiperplanoBase + [coeficienteInterceptoHiperplanoBase]\n",
    "listaPuntosMuestra, muestraPuntosPorClases = generarPuntosMuestra(numeroMuestrasClase1, numeroMuestrasClase2, nombreClase1, nombreClase2, listaCoeficientesCompletosHiperplanoBase, minimoEjeX, maximoEjeX, numeroDimensiones = numeroDimensiones, margenMinimoSeparacionEntreClases = margenMinimoSeparacionEntreClases)\n",
    "print(listaPuntosMuestra)"
   ]
  },
  {
   "cell_type": "code",
   "execution_count": 5,
   "id": "1accc79f",
   "metadata": {},
   "outputs": [
    {
     "name": "stdout",
     "output_type": "stream",
     "text": [
      "{'Clase 1': [[1.241184511447151, 2.023743267986415], [5.8041878730615295, 6.309910932915736], [2.558177389236622, 3.866358886217448], [5.920259041548361, 7.193216707366432], [0.38366837142592036, 1.0656039525620637], [5.2966934889194315, 5.921459423791039], [1.808534051221382, 2.4756756785130536], [0.7365916758742275, 1.8050337674596508], [6.657930524794339, 7.37521658132309], [0.3290876565430889, 1.6092296903348007]], 'Clase 2': [[7.614282873078104, 6.333438705791346], [5.978157264793037, 5.1983773870034895], [9.67764906277427, 8.623808024322178], [4.697558078839372, 3.3694673955680967], [7.328869333034507, 6.341258830627054], [0.8292743505924005, 0.2108382117052916], [0.9932517603358082, 0.11739680863925817], [3.859239057867022, 3.273592994352898], [8.051857125037913, 6.753976582452022], [5.93564706031926, 4.865330347299792]]}\n"
     ]
    }
   ],
   "source": [
    "print(muestraPuntosPorClases)"
   ]
  },
  {
   "cell_type": "code",
   "execution_count": 6,
   "id": "18bf8418",
   "metadata": {},
   "outputs": [
    {
     "name": "stdout",
     "output_type": "stream",
     "text": [
      "{0: [1.241184511447151, 5.8041878730615295, 2.558177389236622, 5.920259041548361, 0.38366837142592036, 5.2966934889194315, 1.808534051221382, 0.7365916758742275, 6.657930524794339, 0.3290876565430889, 7.614282873078104, 5.978157264793037, 9.67764906277427, 4.697558078839372, 7.328869333034507, 0.8292743505924005, 0.9932517603358082, 3.859239057867022, 8.051857125037913, 5.93564706031926], 1: [2.023743267986415, 6.309910932915736, 3.866358886217448, 7.193216707366432, 1.0656039525620637, 5.921459423791039, 2.4756756785130536, 1.8050337674596508, 7.37521658132309, 1.6092296903348007, 6.333438705791346, 5.1983773870034895, 8.623808024322178, 3.3694673955680967, 6.341258830627054, 0.2108382117052916, 0.11739680863925817, 3.273592994352898, 6.753976582452022, 4.865330347299792]}\n"
     ]
    }
   ],
   "source": [
    "a = obtenerListasCoordenadas(listaPuntosMuestra, numeroDimensiones = numeroDimensiones)\n",
    "print(a)"
   ]
  },
  {
   "cell_type": "code",
   "execution_count": 7,
   "id": "38ef97c1",
   "metadata": {},
   "outputs": [
    {
     "ename": "NameError",
     "evalue": "name 'clases' is not defined",
     "output_type": "error",
     "traceback": [
      "\u001b[0;31m---------------------------------------------------------------------------\u001b[0m",
      "\u001b[0;31mNameError\u001b[0m                                 Traceback (most recent call last)",
      "\u001b[0;32m/tmp/ipykernel_4621/2523881369.py\u001b[0m in \u001b[0;36m<module>\u001b[0;34m\u001b[0m\n\u001b[0;32m----> 1\u001b[0;31m \u001b[0malgoritmoPerceptronSimple\u001b[0m\u001b[0;34m(\u001b[0m\u001b[0mlistaPuntosMuestra\u001b[0m\u001b[0;34m,\u001b[0m \u001b[0mmuestraPuntosPorClases\u001b[0m\u001b[0;34m[\u001b[0m\u001b[0mnombreClase2\u001b[0m\u001b[0;34m]\u001b[0m\u001b[0;34m,\u001b[0m \u001b[0mmuestraPuntosPorClases\u001b[0m\u001b[0;34m[\u001b[0m\u001b[0mnombreClase2\u001b[0m\u001b[0;34m]\u001b[0m\u001b[0;34m)\u001b[0m\u001b[0;34m\u001b[0m\u001b[0;34m\u001b[0m\u001b[0m\n\u001b[0m",
      "\u001b[0;32m/tmp/ipykernel_4621/3640746538.py\u001b[0m in \u001b[0;36malgoritmoPerceptronSimple\u001b[0;34m(muestra, clase1, clase2)\u001b[0m\n\u001b[1;32m    121\u001b[0m                     \u001b[0mw2\u001b[0m \u001b[0;34m-=\u001b[0m \u001b[0malfa\u001b[0m \u001b[0;34m*\u001b[0m \u001b[0mparejaSeleccionada\u001b[0m\u001b[0;34m[\u001b[0m\u001b[0;36m1\u001b[0m\u001b[0;34m]\u001b[0m\u001b[0;34m\u001b[0m\u001b[0;34m\u001b[0m\u001b[0m\n\u001b[1;32m    122\u001b[0m                     \u001b[0mb\u001b[0m \u001b[0;34m-=\u001b[0m \u001b[0malfa\u001b[0m\u001b[0;34m\u001b[0m\u001b[0;34m\u001b[0m\u001b[0m\n\u001b[0;32m--> 123\u001b[0;31m         \u001b[0mx1\u001b[0m\u001b[0;34m,\u001b[0m \u001b[0my1\u001b[0m \u001b[0;34m=\u001b[0m \u001b[0msepararPuntosPorListasDeCoordenadas\u001b[0m\u001b[0;34m(\u001b[0m\u001b[0mclases\u001b[0m\u001b[0;34m,\u001b[0m \u001b[0;34m'1'\u001b[0m\u001b[0;34m)\u001b[0m\u001b[0;34m\u001b[0m\u001b[0;34m\u001b[0m\u001b[0m\n\u001b[0m\u001b[1;32m    124\u001b[0m         \u001b[0mx2\u001b[0m\u001b[0;34m,\u001b[0m \u001b[0my2\u001b[0m \u001b[0;34m=\u001b[0m \u001b[0msepararPuntosPorListasDeCoordenadas\u001b[0m\u001b[0;34m(\u001b[0m\u001b[0mclases\u001b[0m\u001b[0;34m,\u001b[0m \u001b[0;34m'2'\u001b[0m\u001b[0;34m)\u001b[0m\u001b[0;34m\u001b[0m\u001b[0;34m\u001b[0m\u001b[0m\n\u001b[1;32m    125\u001b[0m         \u001b[0mplt\u001b[0m\u001b[0;34m.\u001b[0m\u001b[0mplot\u001b[0m\u001b[0;34m(\u001b[0m\u001b[0mx1\u001b[0m\u001b[0;34m,\u001b[0m \u001b[0my1\u001b[0m\u001b[0;34m,\u001b[0m \u001b[0;34m'bo'\u001b[0m\u001b[0;34m,\u001b[0m \u001b[0mlabel\u001b[0m \u001b[0;34m=\u001b[0m \u001b[0;34m'Clase 1 de muestra'\u001b[0m\u001b[0;34m)\u001b[0m\u001b[0;34m\u001b[0m\u001b[0;34m\u001b[0m\u001b[0m\n",
      "\u001b[0;31mNameError\u001b[0m: name 'clases' is not defined"
     ]
    },
    {
     "data": {
      "text/plain": [
       "<Figure size 432x288 with 0 Axes>"
      ]
     },
     "metadata": {},
     "output_type": "display_data"
    }
   ],
   "source": [
    "algoritmoPerceptronSimple(listaPuntosMuestra, muestraPuntosPorClases[nombreClase2], muestraPuntosPorClases[nombreClase2])"
   ]
  },
  {
   "cell_type": "code",
   "execution_count": null,
   "id": "03c69a8b",
   "metadata": {},
   "outputs": [],
   "source": []
  },
  {
   "cell_type": "code",
   "execution_count": null,
   "id": "05b74d9b",
   "metadata": {},
   "outputs": [],
   "source": []
  },
  {
   "cell_type": "code",
   "execution_count": null,
   "id": "e0aba96e",
   "metadata": {},
   "outputs": [],
   "source": []
  }
 ],
 "metadata": {
  "kernelspec": {
   "display_name": "Python 3 (ipykernel)",
   "language": "python",
   "name": "python3"
  },
  "language_info": {
   "codemirror_mode": {
    "name": "ipython",
    "version": 3
   },
   "file_extension": ".py",
   "mimetype": "text/x-python",
   "name": "python",
   "nbconvert_exporter": "python",
   "pygments_lexer": "ipython3",
   "version": "3.10.6"
  }
 },
 "nbformat": 4,
 "nbformat_minor": 5
}
