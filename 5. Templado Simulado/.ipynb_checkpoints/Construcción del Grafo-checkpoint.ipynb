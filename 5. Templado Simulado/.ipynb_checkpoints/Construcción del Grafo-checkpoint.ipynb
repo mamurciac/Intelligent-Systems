{
 "cells": [
  {
   "cell_type": "code",
   "execution_count": 1,
   "id": "7f8d97b0",
   "metadata": {},
   "outputs": [],
   "source": [
    "import matplotlib.pyplot as plt\n",
    "import numpy as np"
   ]
  },
  {
   "cell_type": "code",
   "execution_count": 2,
   "id": "ca78abdf",
   "metadata": {},
   "outputs": [],
   "source": [
    "#Funcion hash para mapear de una coordenada (x, y) a un numero natural (de forma univoca)\n",
    "def hashCoordenadaANumero(valorCoordenadaX, valorCoordenadaY, numeroVerticesAncho):\n",
    "    return valorCoordenadaX * numeroVerticesAncho + valorCoordenadaY\n",
    "\n",
    "#Funcion hash para mapear de un numero natural a una coordenada (x, y) (de forma univoca)\n",
    "def hashNumeroACoordenada(numeroIdentificador, numeroVerticesAncho):\n",
    "    valorCoordenadaX = numeroIdentificador % numeroVerticesAncho\n",
    "    valorCoordenadaY = int(numeroIdentificador / numeroVerticesAncho)\n",
    "    return valorCoordenadaX, valorCoordenadaY\n",
    "\n",
    "def crearAristaGrafoNoDirigido(grafo, nodoOrigen, nodoDestino, costo):\n",
    "    if nodoOrigen not in grafo:\n",
    "        grafo[nodoOrigen] = {}\n",
    "    (grafo[nodoOrigen])[nodoDestino] = costo\n",
    "    if nodoDestino not in grafo:\n",
    "        grafo[nodoDestino] = {}\n",
    "    (grafo[nodoDestino])[nodoOrigen] = costo\n",
    "\n",
    "def obtenerListasCoordendasGrafo(numeroVerticesAlto, numeroVerticesAncho):\n",
    "    listaValoresCoordenadaX = []\n",
    "    listaValoresCoordenadaY = []\n",
    "    for indice1 in range(numeroVerticesAncho):\n",
    "        for indice2 in range(numeroVerticesAlto):\n",
    "            listaValoresCoordenadaX.append(indice1)\n",
    "            listaValoresCoordenadaY.append(indice2)\n",
    "    return listaValoresCoordenadaX, listaValoresCoordenadaY\n",
    "\n",
    "def graficarCarreteras(grafo):\n",
    "    labelBlue = False\n",
    "    labelGueen = False\n",
    "    labelYellow = False\n",
    "    labelOrange = False\n",
    "    labelRed = False\n",
    "    transparencia = 0.75\n",
    "    for i in grafo:\n",
    "        for j in grafo[i]:\n",
    "            if i < j:\n",
    "                x1, y1 = hashNumeroACoordenada(i, numeroVerticesAncho)\n",
    "                x2, y2 = hashNumeroACoordenada(j, numeroVerticesAncho)\n",
    "                #Muy poco trafico -> azul\n",
    "                if grafo[i][j] <= 0.2:\n",
    "                    if labelBlue == True:\n",
    "                        plt.plot([x1, x2], [y1, y2], '', c = '#0000ff', alpha = transparencia)\n",
    "                    else:\n",
    "                        plt.plot([x1, x2], [y1, y2], '', c = '#0000ff', alpha = transparencia, label = 'Muy poco')\n",
    "                        labelBlue = True\n",
    "                #Poco trafico -> verde\n",
    "                elif grafo[i][j] <= 0.4:\n",
    "                    if labelGueen == True:\n",
    "                        plt.plot([x1, x2], [y1, y2], '', c = '#00ff00', alpha = transparencia)\n",
    "                    else:\n",
    "                        plt.plot([x1, x2], [y1, y2], '', c = '#00ff00', alpha = transparencia, label = 'Poco')\n",
    "                        labelGueen = True\n",
    "                #Trafico regular -> amarillo\n",
    "                elif grafo[i][j] <= 0.6:\n",
    "                    if labelYellow == True:\n",
    "                        plt.plot([x1, x2], [y1, y2], '', c = '#ffff00', alpha = transparencia)\n",
    "                    else:\n",
    "                        plt.plot([x1, x2], [y1, y2], '', c = '#ffff00', alpha = transparencia, label = 'Regular')\n",
    "                        labelYellow = True\n",
    "                #Trafico pesado -> naranja\n",
    "                elif grafo[i][j] <= 0.8:\n",
    "                    if labelOrange == True:\n",
    "                        plt.plot([x1, x2], [y1, y2], '', c = '#ffbf00', alpha = transparencia)\n",
    "                    else:\n",
    "                        plt.plot([x1, x2], [y1, y2], '', c = '#ffbf00', alpha = transparencia, label = 'Pesado')\n",
    "                        labelOrange = True\n",
    "                #Trafico muy pesado -> rojo\n",
    "                elif grafo[i][j] <= 1.0:\n",
    "                    if labelRed == True:\n",
    "                        plt.plot([x1, x2], [y1, y2], '', c = '#ff0000', alpha = transparencia)\n",
    "                    else:\n",
    "                        plt.plot([x1, x2], [y1, y2], '', c = '#ff0000', alpha = transparencia, label = 'Muy pesado')\n",
    "                        labelRed = True\n"
   ]
  },
  {
   "cell_type": "code",
   "execution_count": null,
   "id": "be497757",
   "metadata": {},
   "outputs": [],
   "source": []
  },
  {
   "cell_type": "code",
   "execution_count": 3,
   "id": "1d98c524",
   "metadata": {},
   "outputs": [],
   "source": [
    "numeroVerticesAlto = 25\n",
    "numeroVerticesAncho = 25\n",
    "limiteInferiorCostosEntreAristasDelGrafo = 0.0\n",
    "limiteSuperiorCostosEntreAristasDelGrafo = 1.0\n",
    "\n",
    "#plt.rcParams['axes.facecolor'] = 'black'\n",
    "#tiempoPausa = 0.001\n",
    "#margenCiudad = 1\n",
    "#grafo = {}\n",
    "\n",
    "#temperatura = 1000\n",
    "#tasaEnfriamiento = 0.99"
   ]
  },
  {
   "cell_type": "code",
   "execution_count": 4,
   "id": "ae6ccb29",
   "metadata": {},
   "outputs": [],
   "source": [
    "grafo = {}\n",
    "\n",
    "#Construccion del grafo en forma de cuadricula para las aristas\n",
    "for indice1 in range(numeroVerticesAlto):\n",
    "    for indice2 in range(numeroVerticesAncho - 1):\n",
    "        crearAristaGrafoNoDirigido(grafo, indice1 * numeroVerticesAncho + indice2, indice1 * numeroVerticesAncho + indice2 + 1, np.random.rand())\n",
    "for indice1 in range(numeroVerticesAlto - 1):\n",
    "    for indice2 in range(numeroVerticesAncho):\n",
    "        crearAristaGrafoNoDirigido(grafo, indice1 * numeroVerticesAncho + indice2, indice1 * numeroVerticesAncho + indice2 + numeroVerticesAncho, np.random.rand())"
   ]
  },
  {
   "cell_type": "code",
   "execution_count": 5,
   "id": "9d9e10e4",
   "metadata": {},
   "outputs": [
    {
     "ename": "NameError",
     "evalue": "name 'obtenerPuntos' is not defined",
     "output_type": "error",
     "traceback": [
      "\u001b[0;31m---------------------------------------------------------------------------\u001b[0m",
      "\u001b[0;31mNameError\u001b[0m                                 Traceback (most recent call last)",
      "\u001b[0;32m/tmp/ipykernel_5922/647622093.py\u001b[0m in \u001b[0;36m<module>\u001b[0;34m\u001b[0m\n\u001b[0;32m----> 1\u001b[0;31m \u001b[0mx\u001b[0m\u001b[0;34m,\u001b[0m \u001b[0my\u001b[0m \u001b[0;34m=\u001b[0m \u001b[0mobtenerPuntos\u001b[0m\u001b[0;34m(\u001b[0m\u001b[0mnumeroVerticesAlto\u001b[0m\u001b[0;34m,\u001b[0m \u001b[0mnumeroVerticesAncho\u001b[0m\u001b[0;34m)\u001b[0m\u001b[0;34m\u001b[0m\u001b[0;34m\u001b[0m\u001b[0m\n\u001b[0m",
      "\u001b[0;31mNameError\u001b[0m: name 'obtenerPuntos' is not defined"
     ]
    }
   ],
   "source": [
    "listaValoresCoordenadasEjeX, listaValoresCoordenadasEjeY = obtenerListasCoordendasGrafo(numeroVerticesAlto, numeroVerticesAncho)"
   ]
  },
  {
   "cell_type": "code",
   "execution_count": null,
   "id": "9f94637e",
   "metadata": {},
   "outputs": [],
   "source": [
    "plt.rcParams['axes.facecolor'] = 'black'\n",
    "plt.figure(figsize = (20, 18))\n",
    "graficarCarreteras(grafo)\n",
    "plt.plot(listaValoresCoordenadasEjeX, listaValoresCoordenadasEjeY, 'w.', markersize = 18)\n",
    "plt.legend(bbox_to_anchor = (0.0, 1.0, 1.0, 0.1), loc = 3, ncol = 5, mode = \"expand\", borderaxespad = 0.5)\n",
    "for label in plt.legend(bbox_to_anchor = (0.0, 1.0, 1.0, 0.1), loc = 3, ncol = 5, mode = \"expand\", borderaxespad = 0.5).get_texts():\n",
    "    label.set_color('w')"
   ]
  },
  {
   "cell_type": "code",
   "execution_count": null,
   "id": "a579aa3e",
   "metadata": {},
   "outputs": [],
   "source": []
  },
  {
   "cell_type": "code",
   "execution_count": null,
   "id": "73955814",
   "metadata": {},
   "outputs": [],
   "source": []
  },
  {
   "cell_type": "code",
   "execution_count": null,
   "id": "0870971a",
   "metadata": {},
   "outputs": [],
   "source": []
  }
 ],
 "metadata": {
  "kernelspec": {
   "display_name": "Python 3 (ipykernel)",
   "language": "python",
   "name": "python3"
  },
  "language_info": {
   "codemirror_mode": {
    "name": "ipython",
    "version": 3
   },
   "file_extension": ".py",
   "mimetype": "text/x-python",
   "name": "python",
   "nbconvert_exporter": "python",
   "pygments_lexer": "ipython3",
   "version": "3.10.6"
  }
 },
 "nbformat": 4,
 "nbformat_minor": 5
}
