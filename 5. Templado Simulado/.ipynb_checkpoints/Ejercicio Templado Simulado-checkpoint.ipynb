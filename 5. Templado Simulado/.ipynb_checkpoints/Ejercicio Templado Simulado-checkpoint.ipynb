{
 "cells": [
  {
   "cell_type": "code",
   "execution_count": 1,
   "id": "0fb784df",
   "metadata": {},
   "outputs": [],
   "source": [
    "import matplotlib.pyplot as plt\n",
    "import numpy as np\n",
    "from heapq import heappush, heappop"
   ]
  },
  {
   "cell_type": "code",
   "execution_count": 2,
   "id": "3ae26e71",
   "metadata": {},
   "outputs": [],
   "source": [
    "def printColouredText(text, foregroundColor = (0, 0, 0), backgroundColor = (255, 255, 255)):\n",
    "    return \"\\033[48;2;{};{};{}m\\033[38;2;{};{};{}m{}\\033[38;2;0;0;0m\\033[48;2;255;255;255m\".format(backgroundColor[0], backgroundColor[1], backgroundColor[2], foregroundColor[0], foregroundColor[1], foregroundColor[2], text)\n",
    "\n",
    "#Funcion hash para mapear de una coordenada (x, y) de una malla de puntos equidistantes a un numero natural\n",
    "def hashCoordenadaANumero(valorCoordenadaX, valorCoordenadaY, numeroVerticesAlto, numeroVerticesAncho):\n",
    "    return valorCoordenadaX + valorCoordenadaY * numeroVerticesAlto\n",
    "\n",
    "#Funcion hash para mapear de un numero natural a una coordenada (x, y) de una malla de puntos equidistantes\n",
    "def hashNumeroACoordenada(numeroIdentificador, numeroVerticesAlto, numeroVerticesAncho):\n",
    "    valorCoordenadaX = numeroIdentificador % numeroVerticesAncho\n",
    "    valorCoordenadaY = int(numeroIdentificador / numeroVerticesAncho)\n",
    "    return valorCoordenadaX, valorCoordenadaY\n",
    "\n",
    "def crearAristaGrafoNoDirigido(grafo, nodoOrigen, nodoDestino, costo):\n",
    "    if nodoOrigen not in grafo:\n",
    "        grafo[nodoOrigen] = {}\n",
    "    (grafo[nodoOrigen])[nodoDestino] = costo\n",
    "    if nodoDestino not in grafo:\n",
    "        grafo[nodoDestino] = {}\n",
    "    (grafo[nodoDestino])[nodoOrigen] = costo\n",
    "\n",
    "def extraerInformacionGrafo(nombreArchivo):\n",
    "    grafo = {}\n",
    "    informacionAristasGrafo = {}\n",
    "    numeroVerticesAlto = None\n",
    "    numeroVerticesAncho = None\n",
    "    \n",
    "    #Lectura linea por linea del archivo, en la primera linea se tiene el numero de vertices de alto del grafo de malla, en la segunda linea se tiene el numero de vertices de ancho del grafo de malla, en las demas lineas se tienen separados por espacios los datos de cada arista (Nodo origen, nodo destino, costo y color asignado)\n",
    "    inputStream = open(nombreArchivo, \"r\")\n",
    "    listaNodosEncontrados = []\n",
    "    lineasTextoArchivo = inputStream.readlines()\n",
    "    for indice in range(len(lineasTextoArchivo)):\n",
    "        if indice == 0:\n",
    "            numeroVerticesAlto = int(lineasTextoArchivo[indice].strip())\n",
    "        elif indice == 1:\n",
    "            numeroVerticesAncho = int(lineasTextoArchivo[indice].strip())\n",
    "        else:\n",
    "            datosArista = lineasTextoArchivo[indice].strip().split(\" \")\n",
    "            nodoOrigen = int(datosArista[0])\n",
    "            nodoDestino = int(datosArista[1])\n",
    "            costo = float(datosArista[2])\n",
    "            colorArista = datosArista[3]\n",
    "            crearAristaGrafoNoDirigido(grafo, nodoOrigen, nodoDestino, costo)\n",
    "            informacionAristasGrafo[(nodoOrigen, nodoDestino)] = {\"costo\": costo, \"color\": colorArista}\n",
    "\n",
    "            if nodoOrigen not in listaNodosEncontrados:\n",
    "                listaNodosEncontrados.append(nodoOrigen)\n",
    "            if nodoDestino not in listaNodosEncontrados:\n",
    "                listaNodosEncontrados.append(nodoDestino)\n",
    "    numeroNodosEncontrados = len(listaNodosEncontrados)\n",
    "    numeroAristasEncontradas = len(list(informacionAristasGrafo.keys()))\n",
    "    inputStream.close()\n",
    "    return grafo, informacionAristasGrafo, numeroNodosEncontrados, numeroAristasEncontradas, numeroVerticesAlto, numeroVerticesAncho\n",
    "\n",
    "def updateheap(heap,d,v):\n",
    "    for i in range(len(heap)):\n",
    "        if heap[i][1] == v:\n",
    "            heap[i][0] = d\n",
    "            fix_minheap(heap,i) # heap=heapify(heap) ineficient\n",
    "            break\n",
    "\n",
    "def fix_minheap(heap, i):\n",
    "    if i == 0: return\n",
    "    p = int(i/2) #parent\n",
    "    if p >= 0 and heap[p][0] > heap[i][0]:\n",
    "        heap[i], heap[p] = heap[p], heap[i]\n",
    "        fix_minheap(heap,p)\n",
    "\n",
    "def Dijkstra(G, start):\n",
    "    D = {} # dictionary of final distances\n",
    "    for v in G:\n",
    "        D[v] = float('inf')\n",
    "    D[start] = 0\n",
    "    \n",
    "    P = {} # dictionary of predecessors\n",
    "    \n",
    "    Q=[] #  priority queue est.dist. of non-final vert.\n",
    "    for v in G:\n",
    "        item = []\n",
    "        item.append(D[v])\n",
    "        item.append(v)\n",
    "        heappush(Q,item)\n",
    "    \n",
    "    #S = []\n",
    "    while Q:\n",
    "        u = heappop(Q)[1]\n",
    "        #S.append(u)\n",
    "        for v in G[u]:\n",
    "            newDuv = D[u] + G[u][v]\n",
    "            if newDuv < D[v]:\n",
    "                P[v] = u\n",
    "                D[v] = newDuv\n",
    "                updateheap(Q,D[v],v)\n",
    "    return D,P\n",
    "\n",
    "# From  http://www.ics.uci.edu/~eppstein/161/python/dijkstra.py\n",
    "# David Eppstein, UC Irvine, 4 April 2002\n",
    "def shortestPath(G,start,end):\n",
    "    \"\"\"\n",
    "    Find a single shortest path from the given start vertex to the given end vertex.\n",
    "    The input has the same conventions as Dijkstra().\n",
    "    The output is a list of the vertices in order along the shortest path.\n",
    "     \"\"\"\n",
    "\n",
    "    D,P = Dijkstra(G,start)\n",
    "    Path = []\n",
    "    while 1:\n",
    "        Path.append(end)\n",
    "        if end == start: break\n",
    "        end = P[end]\n",
    "    Path.reverse()\n",
    "    return Path\n",
    "\n",
    "def obtenerListasCoordendasGrafo(grafo, numeroVerticesAlto, numeroVerticesAncho):\n",
    "    listaValoresCoordenadaX = []\n",
    "    listaValoresCoordenadaY = []\n",
    "    listaNodosVisitadosGrafo = []\n",
    "    for nodoOrigen in grafo:\n",
    "        for nodoDestino in grafo[nodoOrigen]:\n",
    "            if nodoOrigen not in listaNodosVisitadosGrafo:\n",
    "                listaNodosVisitadosGrafo.append(nodoOrigen)\n",
    "                valorCoordenadaXNodoActual, valorCoordenadaYNodoActual = hashNumeroACoordenada(nodoOrigen, numeroVerticesAlto, numeroVerticesAncho)\n",
    "                listaValoresCoordenadaX.append(valorCoordenadaXNodoActual)\n",
    "                listaValoresCoordenadaY.append(valorCoordenadaYNodoActual)\n",
    "            if nodoDestino not in listaNodosVisitadosGrafo:\n",
    "                listaNodosVisitadosGrafo.append(nodoDestino)\n",
    "                valorCoordenadaXNodoActual, valorCoordenadaYNodoActual = hashNumeroACoordenada(nodoDestino, numeroVerticesAlto, numeroVerticesAncho)\n",
    "                listaValoresCoordenadaX.append(valorCoordenadaXNodoActual)\n",
    "                listaValoresCoordenadaY.append(valorCoordenadaYNodoActual)\n",
    "    return listaValoresCoordenadaX, listaValoresCoordenadaY\n",
    "\n",
    "def dibujarAristasGrafoPlanoCartesiano(grafo, informacionAristasGrafo):\n",
    "    transparencia = 0.9\n",
    "    for nodoOrigen in grafo:\n",
    "        for nodoDestino in grafo[nodoOrigen]:\n",
    "            if nodoOrigen < nodoDestino:\n",
    "                valorCoordenadaXNodoOrigen, valorCoordenadaYNodoOrigen = hashNumeroACoordenada(nodoOrigen, numeroVerticesAlto, numeroVerticesAncho)\n",
    "                valorCoordenadaXNodoDestino, valorCoordenadaYNodoDestino = hashNumeroACoordenada(nodoDestino, numeroVerticesAlto, numeroVerticesAncho)\n",
    "                colorArista = informacionAristasGrafo[(nodoOrigen, nodoDestino)][\"color\"]\n",
    "                plt.plot([valorCoordenadaXNodoOrigen, valorCoordenadaXNodoDestino], [valorCoordenadaYNodoOrigen, valorCoordenadaYNodoDestino], '', c = colorArista, alpha = transparencia)"
   ]
  },
  {
   "cell_type": "code",
   "execution_count": 3,
   "id": "b188d9a0",
   "metadata": {},
   "outputs": [],
   "source": [
    "#Parametros de ejecucion del programa\n",
    "nombreArchivo = \"Graph Data.txt\"\n",
    "coordenadaXPuntoInicial = 1\n",
    "coordenadaYPuntoInicial = 2\n",
    "coordenadaXPuntoFinal = 23\n",
    "coordenadaYPuntoFinal = 22"
   ]
  },
  {
   "cell_type": "code",
   "execution_count": 4,
   "id": "a3ad6d13",
   "metadata": {},
   "outputs": [
    {
     "name": "stdout",
     "output_type": "stream",
     "text": [
      "Se ha extraído la información del grafo del archivo \u001b[48;2;255;255;255m\u001b[38;2;35;155;86mGraph Data.txt\u001b[38;2;0;0;0m\u001b[48;2;255;255;255m\n",
      "El grafo contiene \u001b[48;2;255;255;255m\u001b[38;2;35;155;86m625 nodos\u001b[38;2;0;0;0m\u001b[48;2;255;255;255m y \u001b[48;2;255;255;255m\u001b[38;2;35;155;86m1200 aristas\u001b[38;2;0;0;0m\u001b[48;2;255;255;255m\n",
      "Se va a buscar una solución al camino más corto entre los puntos \u001b[48;2;255;255;255m\u001b[38;2;176;58;46m(1, 2)\u001b[38;2;0;0;0m\u001b[48;2;255;255;255m y \u001b[48;2;255;255;255m\u001b[38;2;176;58;46m(23, 22)\u001b[38;2;0;0;0m\u001b[48;2;255;255;255m\n"
     ]
    }
   ],
   "source": [
    "grafo, informacionAristasGrafo, numeroNodosEncontrados, numeroAristasEncontradas, numeroVerticesAlto, numeroVerticesAncho = extraerInformacionGrafo(nombreArchivo)\n",
    "\n",
    "colorTextoVerde = (35, 155, 86)\n",
    "colorTextoRojo = (176, 58, 46)\n",
    "print(\"Se ha extraído la información del grafo del archivo\", printColouredText(nombreArchivo, colorTextoVerde))\n",
    "print(\"El grafo contiene\", printColouredText(str(numeroNodosEncontrados) + \" nodos\", colorTextoVerde), \"y\", printColouredText(str(numeroAristasEncontradas) + \" aristas\", colorTextoVerde))\n",
    "print(\"Se va a buscar una solución al camino más corto entre los puntos\", printColouredText(str((coordenadaXPuntoInicial, coordenadaYPuntoInicial)), colorTextoRojo), \"y\", printColouredText(str((coordenadaXPuntoFinal, coordenadaYPuntoFinal)), colorTextoRojo))"
   ]
  },
  {
   "cell_type": "code",
   "execution_count": 5,
   "id": "4a73298e",
   "metadata": {},
   "outputs": [
    {
     "name": "stdout",
     "output_type": "stream",
     "text": [
      "51\n",
      "573\n"
     ]
    }
   ],
   "source": [
    "nodoOrigen = hashCoordenadaANumero(coordenadaXPuntoInicial, coordenadaYPuntoInicial, numeroVerticesAlto, numeroVerticesAncho)\n",
    "nodoDestino = hashCoordenadaANumero(coordenadaXPuntoFinal, coordenadaYPuntoFinal, numeroVerticesAlto, numeroVerticesAncho)\n",
    "\n",
    "print(nodoOrigen)\n",
    "print(nodoDestino)\n",
    "\n",
    "#print(Dijkstra(grafo, nodoOrigen))\n",
    "#print(\"\")\n",
    "\n",
    "listaNodosCaminoMasCortoOrigenADestino = shortestPath(grafo, nodoOrigen, nodoDestino)\n",
    "coordX = []\n",
    "coordY = []\n",
    "for nodo in listaNodosCaminoMasCortoOrigenADestino:\n",
    "    cx, cy = hashNumeroACoordenada(nodo, numeroVerticesAlto, numeroVerticesAncho)\n",
    "    coordX.append(cx)\n",
    "    coordY.append(cy)"
   ]
  },
  {
   "cell_type": "code",
   "execution_count": 6,
   "id": "f4affac7",
   "metadata": {},
   "outputs": [
    {
     "data": {
      "image/png": "[encoded data removed]",
      "text/plain": [
       "<Figure size 1080x1008 with 1 Axes>"
      ]
     },
     "metadata": {
      "needs_background": "light"
     },
     "output_type": "display_data"
    }
   ],
   "source": [
    "listaValoresCoordenadasEjeX, listaValoresCoordenadasEjeY = obtenerListasCoordendasGrafo(grafo, numeroVerticesAlto, numeroVerticesAncho)\n",
    "\n",
    "plt.rcParams['axes.facecolor'] = 'black'\n",
    "plt.figure(figsize = (15, 14))\n",
    "dibujarAristasGrafoPlanoCartesiano(grafo, informacionAristasGrafo)\n",
    "plt.plot(listaValoresCoordenadasEjeX, listaValoresCoordenadasEjeY, 'w.', markersize = 18)\n",
    "plt.plot(coordX, coordY, 'w-', linewidth = 8)\n",
    "plt.plot([coordenadaXPuntoInicial, coordenadaXPuntoFinal], [coordenadaYPuntoInicial, coordenadaYPuntoFinal], 'c.', markersize = 35)\n",
    "plt.show()"
   ]
  },
  {
   "cell_type": "code",
   "execution_count": null,
   "id": "2d4b9118",
   "metadata": {},
   "outputs": [],
   "source": []
  }
 ],
 "metadata": {
  "kernelspec": {
   "display_name": "Python 3 (ipykernel)",
   "language": "python",
   "name": "python3"
  },
  "language_info": {
   "codemirror_mode": {
    "name": "ipython",
    "version": 3
   },
   "file_extension": ".py",
   "mimetype": "text/x-python",
   "name": "python",
   "nbconvert_exporter": "python",
   "pygments_lexer": "ipython3",
   "version": "3.10.6"
  }
 },
 "nbformat": 4,
 "nbformat_minor": 5
}
