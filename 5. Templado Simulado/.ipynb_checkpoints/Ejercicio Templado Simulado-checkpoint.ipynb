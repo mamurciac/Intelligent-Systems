{
 "cells": [
  {
   "cell_type": "code",
   "execution_count": 1,
   "id": "f031f093",
   "metadata": {},
   "outputs": [],
   "source": [
    "import matplotlib.pyplot as plt\n",
    "import numpy as np"
   ]
  },
  {
   "cell_type": "code",
   "execution_count": 2,
   "id": "d99a1ce4",
   "metadata": {},
   "outputs": [],
   "source": [
    "def crearAristaGrafoNoDirigido(grafo, nodoOrigen, nodoDestino, costo):\n",
    "    if nodoOrigen not in grafo:\n",
    "        grafo[nodoOrigen] = {}\n",
    "    (grafo[nodoOrigen])[nodoDestino] = costo\n",
    "    if nodoDestino not in grafo:\n",
    "        grafo[nodoDestino] = {}\n",
    "    (grafo[nodoDestino])[nodoOrigen] = costo"
   ]
  },
  {
   "cell_type": "code",
   "execution_count": 3,
   "id": "ba04385d",
   "metadata": {},
   "outputs": [],
   "source": [
    "#Parametros de ejecucion del programa\n",
    "nombreArchivo = \"Graph Data.txt\"\n",
    "#numeroVerticesAlto = 20\n",
    "#numeroVerticesAncho = 20\n",
    "#limiteInferiorCostosEntreAristasDelGrafo = 1.0\n",
    "#limiteSuperiorCostosEntreAristasDelGrafo = 2.0\n",
    "#diccionarioCategoriasTraficoAColores = {\"Poco\" : \"#2ECC71\", \"Medio\" : \"#F1C40F\", \"Alto\" : \"#E74C3C\"}"
   ]
  },
  {
   "cell_type": "code",
   "execution_count": 4,
   "id": "cb8f3021",
   "metadata": {},
   "outputs": [],
   "source": [
    "grafo = {}\n",
    "\n",
    "inputStream = open(nombreArchivo, \"r\")\n",
    "lineasTextoArchivo = inputStream.readlines()\n",
    "\n",
    "for lineaTexto in lineasTextoArchivo:\n",
    "    datosArista = lineaTexto.split(\" \")\n",
    "    nodoOrigen = int(datosArista[0])\n",
    "    nodoDestino = int(datosArista[1])\n",
    "    costo = float(datosArista[2])\n",
    "    colorArista = datosArista[3]\n",
    "    crearAristaGrafoNoDirigido(grafo, nodoOrigen, nodoDestino, costo)\n",
    "\n",
    "inputStream.close()"
   ]
  },
  {
   "cell_type": "code",
   "execution_count": null,
   "id": "200a3c7f",
   "metadata": {},
   "outputs": [],
   "source": []
  },
  {
   "cell_type": "code",
   "execution_count": null,
   "id": "038cb2ba",
   "metadata": {},
   "outputs": [],
   "source": []
  }
 ],
 "metadata": {
  "kernelspec": {
   "display_name": "Python 3 (ipykernel)",
   "language": "python",
   "name": "python3"
  },
  "language_info": {
   "codemirror_mode": {
    "name": "ipython",
    "version": 3
   },
   "file_extension": ".py",
   "mimetype": "text/x-python",
   "name": "python",
   "nbconvert_exporter": "python",
   "pygments_lexer": "ipython3",
   "version": "3.10.6"
  }
 },
 "nbformat": 4,
 "nbformat_minor": 5
}
